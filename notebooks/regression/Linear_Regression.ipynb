{
  "nbformat": 4,
  "nbformat_minor": 0,
  "metadata": {
    "colab": {
      "provenance": [],
      "toc_visible": true,
      "authorship_tag": "ABX9TyPQ4FKQsrrTruzaLM16naxr",
      "include_colab_link": true
    },
    "kernelspec": {
      "name": "python3",
      "display_name": "Python 3"
    },
    "language_info": {
      "name": "python"
    }
  },
  "cells": [
    {
      "cell_type": "markdown",
      "metadata": {
        "id": "view-in-github",
        "colab_type": "text"
      },
      "source": [
        "<a href=\"https://colab.research.google.com/github/Z4phxr/Linear-Regression-Study/blob/main/Linear_Regression.ipynb\" target=\"_parent\"><img src=\"https://colab.research.google.com/assets/colab-badge.svg\" alt=\"Open In Colab\"/></a>"
      ]
    },
    {
      "cell_type": "code",
      "execution_count": 219,
      "metadata": {
        "id": "PwiSLDbhmBRS"
      },
      "outputs": [],
      "source": [
        "import pandas as pd\n",
        "import numpy as np\n",
        "import csv\n",
        "import matplotlib.pyplot as plt\n",
        "import sklearn"
      ]
    },
    {
      "cell_type": "markdown",
      "source": [
        "# Testing sklearn linear regression model\n"
      ],
      "metadata": {
        "id": "2l4XilOfbi08"
      }
    },
    {
      "cell_type": "code",
      "source": [
        "x1 = []\n",
        "y = []\n",
        "with open(\"data1.csv\", newline='') as f:\n",
        "    reader = csv.reader(f)\n",
        "    for row in reader:\n",
        "        x1.append(float(row[0]))\n",
        "        y.append(float(row[1]))"
      ],
      "metadata": {
        "id": "5iCOOLfX3GVK"
      },
      "execution_count": 220,
      "outputs": []
    },
    {
      "cell_type": "code",
      "source": [
        "plt.scatter(x1, y)"
      ],
      "metadata": {
        "colab": {
          "base_uri": "https://localhost:8080/",
          "height": 0
        },
        "id": "-qg12EOw4DlC",
        "outputId": "4a859cb2-ac7d-482f-ee5e-aac04efbc41e"
      },
      "execution_count": 221,
      "outputs": [
        {
          "output_type": "execute_result",
          "data": {
            "text/plain": [
              "<matplotlib.collections.PathCollection at 0x7f77152b2590>"
            ]
          },
          "metadata": {},
          "execution_count": 221
        },
        {
          "output_type": "display_data",
          "data": {
            "text/plain": [
              "<Figure size 640x480 with 1 Axes>"
            ],
            "image/png": "[encoded data removed]"
          },
          "metadata": {}
        }
      ]
    },
    {
      "cell_type": "code",
      "source": [
        "x = [[el] for el in x1]"
      ],
      "metadata": {
        "id": "8fpYzGD9zcV9"
      },
      "execution_count": 222,
      "outputs": []
    },
    {
      "cell_type": "code",
      "source": [
        "X_train, X_test, y_train, y_test = sklearn.model_selection.train_test_split(x, y, random_state=1)"
      ],
      "metadata": {
        "id": "zlIVbkW96_Wi"
      },
      "execution_count": 223,
      "outputs": []
    },
    {
      "cell_type": "code",
      "source": [
        "lr = sklearn.linear_model.LinearRegression().fit(X_train, y_train)"
      ],
      "metadata": {
        "id": "RVwntRfV72O5"
      },
      "execution_count": 224,
      "outputs": []
    },
    {
      "cell_type": "code",
      "source": [
        "lr.score(X_train, y_train)"
      ],
      "metadata": {
        "colab": {
          "base_uri": "https://localhost:8080/"
        },
        "id": "c-cJAVd88cg4",
        "outputId": "c9a5b895-17fa-4590-beaa-c09b55befcd8"
      },
      "execution_count": 225,
      "outputs": [
        {
          "output_type": "execute_result",
          "data": {
            "text/plain": [
              "0.8884527429223392"
            ]
          },
          "metadata": {},
          "execution_count": 225
        }
      ]
    },
    {
      "cell_type": "code",
      "source": [
        "lr.score(X_test, y_test)"
      ],
      "metadata": {
        "colab": {
          "base_uri": "https://localhost:8080/"
        },
        "id": "V_XlNxmS8Rmq",
        "outputId": "66fd5566-acb0-4623-a2a4-850b97fc8ea9"
      },
      "execution_count": 226,
      "outputs": [
        {
          "output_type": "execute_result",
          "data": {
            "text/plain": [
              "0.7901827914959503"
            ]
          },
          "metadata": {},
          "execution_count": 226
        }
      ]
    },
    {
      "cell_type": "code",
      "source": [
        "plt.scatter(X_train, y_train)\n",
        "plt.scatter(X_test, y_test)\n",
        "\n",
        "a = lr.coef_[0]\n",
        "b = lr.intercept_\n",
        "\n",
        "x_all = np.array(x) if not isinstance(x, np.ndarray) else x\n",
        "\n",
        "x_line = np.linspace(x_all.min(), x_all.max(), 100)\n",
        "y_line = a * x_line + b\n",
        "\n",
        "plt.plot(x_line, y_line, color='red', label=f'y = {a:.2f}x + {b:.2f}')\n",
        "plt.legend()\n",
        "plt.show()\n"
      ],
      "metadata": {
        "colab": {
          "base_uri": "https://localhost:8080/",
          "height": 0
        },
        "id": "y4GXZ_wc8sgS",
        "outputId": "2af42544-1ed8-4547-f0b9-47c5717dc6cf"
      },
      "execution_count": 227,
      "outputs": [
        {
          "output_type": "display_data",
          "data": {
            "text/plain": [
              "<Figure size 640x480 with 1 Axes>"
            ],
            "image/png": "[encoded data removed]"
          },
          "metadata": {}
        }
      ]
    },
    {
      "cell_type": "markdown",
      "source": [
        "# Building my own linear regression model"
      ],
      "metadata": {
        "id": "xwYHo4SE2eT2"
      }
    },
    {
      "cell_type": "markdown",
      "source": [
        "The model is based on the equation $ y = X \\beta + \\epsilon $, where $ y $ is the target vector, $ X $ is the feature matrix with each row as a data point and columns as features (including a column of ones for the intercept), $ \\beta $ is the vector of coefficients (intercept $ \\beta_0 $ and feature weights $ \\beta_1, \\beta_2, \\dots $), and $ \\epsilon $ is the error term capturing noise or unmodeled factors. The goal is to find $ \\beta $ that minimizes the squared errors."
      ],
      "metadata": {
        "id": "OqTKn5Pu2i61"
      }
    },
    {
      "cell_type": "markdown",
      "source": [
        "We need to calculate the value of the vector **β**, which can be done using the formula:\n",
        "\n",
        "$$\n",
        "\\boldsymbol{\\beta} = (X^T X)^{-1} X^T y\n",
        "$$\n",
        "\n",
        "Construct **X** with shape **(n, m+1)**, where **n** is the number of samples and **m** is the number of features, including a column of ones for the intercept.  \n",
        "\n",
        "To compute **β** using matrix operations:  \n",
        "1. Transpose: **Xᵀ**  \n",
        "2. Matrix product: **Xᵀ X**  \n",
        "3. Inverse: **(Xᵀ X)⁻¹**  \n",
        "4. Final product: **(Xᵀ X)⁻¹ Xᵀ y**  \n",
        "\n",
        "This is done by the **fit** function, which computes and stores the intercept and coefficients.\n"
      ],
      "metadata": {
        "id": "i5PpzVFIRhSp"
      }
    },
    {
      "cell_type": "markdown",
      "source": [
        "The `predict` function takes new input data **X**, adds a column of ones to maintain the same format as during training, and computes predictions using:\n",
        "\n",
        "$$\n",
        "\\hat{y} = X \\boldsymbol{\\beta}\n",
        "$$\n",
        "\n",
        "where **β** is the concatenated vector of the intercept and coefficients, using matrix multiplication (NumPy’s `@` operator).  \n",
        "\n",
        "Evaluate the model with metrics like **Mean Squared Error (MSE)** and **R²** to assess prediction accuracy.  \n",
        "\n",
        "Ensure data quality to avoid issues like a non-invertible \\(X^T X\\), using a pseudo-inverse or gradient descent if needed.\n"
      ],
      "metadata": {
        "id": "XrWl4qYASOk5"
      }
    },
    {
      "cell_type": "markdown",
      "source": [
        "The `score` function in linear regression returns the **R² score**, which shows how well the model explains the variance in the data. It compares prediction errors (**SSE**) to the total variance (**SST**) using:\n",
        "\n",
        "$$\n",
        "R^2 = 1 - \\frac{\\text{SSE}}{\\text{SST}}\n",
        "$$\n",
        "\n",
        "Values near **1** indicate a good fit, **0** means no improvement over predicting the mean, and negative values indicate a poor model.\n"
      ],
      "metadata": {
        "id": "QQH-m3L-YINL"
      }
    },
    {
      "cell_type": "code",
      "source": [
        "import numpy as np\n",
        "\n",
        "class MyLinear_Regression:\n",
        "    \"\"\"Simple linear regression using the normal equation.\"\"\"\n",
        "\n",
        "    def __init__(self):\n",
        "        self.coef_ = None\n",
        "        self.intercept_ = None\n",
        "\n",
        "    def fit(self, X, y):\n",
        "        \"\"\"\n",
        "        Fit model to data.\n",
        "\n",
        "        Parameters:\n",
        "            X (array-like): Feature matrix.\n",
        "            y (array-like): Target vector.\n",
        "        \"\"\"\n",
        "        X = np.array(X)\n",
        "        y = np.array(y)\n",
        "        if X.ndim == 1:\n",
        "            X = X.reshape(-1, 1)\n",
        "        X_with_intercept = np.hstack([np.ones((X.shape[0], 1)), X])\n",
        "        X_T_X = X_with_intercept.T @ X_with_intercept\n",
        "        X_T_X_inv = np.linalg.pinv(X_T_X)\n",
        "        beta = X_T_X_inv @ X_with_intercept.T @ y\n",
        "        self.intercept_ = beta[0]\n",
        "        self.coef_ = beta[1:]\n",
        "\n",
        "    def predict(self, X):\n",
        "        \"\"\"\n",
        "        Predict target values.\n",
        "\n",
        "        Parameters:\n",
        "            X (array-like): Feature matrix.\n",
        "\n",
        "        Returns:\n",
        "            np.ndarray: Predicted values.\n",
        "        \"\"\"\n",
        "        X = np.array(X)\n",
        "        if X.ndim == 1:\n",
        "            X = X.reshape(-1, 1)\n",
        "        X_with_intercept = np.hstack([np.ones((X.shape[0], 1)), X])\n",
        "        beta = np.concatenate([[self.intercept_], self.coef_])\n",
        "        return X_with_intercept @ beta\n",
        "\n",
        "    def score(self, y_true, y_pred):\n",
        "        \"\"\"\n",
        "        Calculate R² score.\n",
        "\n",
        "        Parameters:\n",
        "            y_true (array-like): True values.\n",
        "            y_pred (array-like): Predicted values.\n",
        "\n",
        "        Returns:\n",
        "            float: R² score.\n",
        "        \"\"\"\n",
        "        y_true = np.array(y_true)\n",
        "        y_mean = np.mean(y_true)\n",
        "        SST = np.sum((y_true - y_mean) ** 2)\n",
        "        SSE = np.sum((y_true - y_pred) ** 2)\n",
        "        return float(1 - (SSE / SST))"
      ],
      "metadata": {
        "id": "nXRQLLn0cfx3"
      },
      "execution_count": 228,
      "outputs": []
    },
    {
      "cell_type": "markdown",
      "source": [
        "# Testing the model I build"
      ],
      "metadata": {
        "id": "saz7t69jUymz"
      }
    },
    {
      "cell_type": "code",
      "source": [
        "lr = MyLinear_Regression()\n",
        "lr.fit(X_train, y_train)"
      ],
      "metadata": {
        "id": "9AWvVvCGTl5r"
      },
      "execution_count": 229,
      "outputs": []
    },
    {
      "cell_type": "code",
      "source": [
        "output = lr.predict(X_test)\n",
        "output_train = lr.predict(X_train)"
      ],
      "metadata": {
        "id": "Xoj9yyjCTxcD"
      },
      "execution_count": 230,
      "outputs": []
    },
    {
      "cell_type": "code",
      "source": [
        "lr.score(y_test, output)"
      ],
      "metadata": {
        "colab": {
          "base_uri": "https://localhost:8080/"
        },
        "id": "ndsjlfmiX0O2",
        "outputId": "576213a7-6401-4728-82de-bc1e62bed8b2"
      },
      "execution_count": 231,
      "outputs": [
        {
          "output_type": "execute_result",
          "data": {
            "text/plain": [
              "0.7901827914959447"
            ]
          },
          "metadata": {},
          "execution_count": 231
        }
      ]
    },
    {
      "cell_type": "code",
      "source": [
        "lr.score(y_train, output_train)"
      ],
      "metadata": {
        "colab": {
          "base_uri": "https://localhost:8080/"
        },
        "id": "yxR7PcSVjCoN",
        "outputId": "e3c88c00-6028-4414-c786-797373428373"
      },
      "execution_count": 232,
      "outputs": [
        {
          "output_type": "execute_result",
          "data": {
            "text/plain": [
              "0.8884527429223391"
            ]
          },
          "metadata": {},
          "execution_count": 232
        }
      ]
    },
    {
      "cell_type": "code",
      "source": [
        "plt.scatter(X_train, y_train)\n",
        "plt.scatter(X_test, y_test)\n",
        "plt.scatter(X_test, output)\n",
        "\n",
        "a = lr.coef_[0]\n",
        "b = lr.intercept_\n",
        "\n",
        "x_all = np.array(x) if not isinstance(x, np.ndarray) else x\n",
        "\n",
        "x_line = np.linspace(x_all.min(), x_all.max(), 100)\n",
        "y_line = a * x_line + b\n",
        "\n",
        "plt.plot(x_line, y_line, color='green', label=f'y = {a:.2f}x + {b:.2f}')\n",
        "plt.legend()\n",
        "plt.show()\n"
      ],
      "metadata": {
        "colab": {
          "base_uri": "https://localhost:8080/",
          "height": 430
        },
        "id": "rks06JftTuzT",
        "outputId": "252e191f-684c-4ac7-84e0-43b468143fe2"
      },
      "execution_count": 233,
      "outputs": [
        {
          "output_type": "display_data",
          "data": {
            "text/plain": [
              "<Figure size 640x480 with 1 Axes>"
            ],
            "image/png": "[encoded data removed]"
          },
          "metadata": {}
        }
      ]
    },
    {
      "cell_type": "markdown",
      "source": [
        "The blue dots represent the training data, the orange dots represent the test data, and the green dots represent the model’s predictions."
      ],
      "metadata": {
        "id": "ntULTuyGVaSs"
      }
    },
    {
      "cell_type": "markdown",
      "source": [
        "The linear regression model I developed produces the same coefficients and intercept values as the model from the scikit-learn library. This ensures that both models generate identical regression lines, resulting in the same predictions."
      ],
      "metadata": {
        "id": "l8AX1cVlU2Hb"
      }
    },
    {
      "cell_type": "markdown",
      "source": [
        "# Multiple variables"
      ],
      "metadata": {
        "id": "ohnb2ZtZdHhz"
      }
    },
    {
      "cell_type": "markdown",
      "source": [
        "A linear regression model was trained using multiple features from the California housing dataset to predict housing prices. This method accounts for the influence of several variables simultaneously."
      ],
      "metadata": {
        "id": "kfga1TYNiTKs"
      }
    },
    {
      "cell_type": "code",
      "source": [
        "from sklearn.datasets import fetch_california_housing\n",
        "data = fetch_california_housing()"
      ],
      "metadata": {
        "id": "Bq7_vQXGd8fT"
      },
      "execution_count": 234,
      "outputs": []
    },
    {
      "cell_type": "code",
      "source": [
        "X_train, X_test, y_train, y_test = sklearn.model_selection.train_test_split(data.data, data.target)"
      ],
      "metadata": {
        "id": "fLiGzyMBd9xb"
      },
      "execution_count": 235,
      "outputs": []
    },
    {
      "cell_type": "code",
      "source": [
        "lr = MyLinear_Regression()\n",
        "lr.fit(X_train, y_train)\n",
        "\n",
        "y_train_pred = lr.predict(X_train)\n",
        "y_test_pred = lr.predict(X_test)"
      ],
      "metadata": {
        "id": "8ekUbYQYeul0"
      },
      "execution_count": 236,
      "outputs": []
    },
    {
      "cell_type": "code",
      "source": [
        "lr.score(y_train, y_train_pred)"
      ],
      "metadata": {
        "colab": {
          "base_uri": "https://localhost:8080/"
        },
        "id": "6sK_Na5_g9mF",
        "outputId": "084bd04d-b833-4930-b5e0-56b6656146d0"
      },
      "execution_count": 237,
      "outputs": [
        {
          "output_type": "execute_result",
          "data": {
            "text/plain": [
              "0.6033276136502186"
            ]
          },
          "metadata": {},
          "execution_count": 237
        }
      ]
    },
    {
      "cell_type": "code",
      "source": [
        "lr.score(y_test, y_test_pred)"
      ],
      "metadata": {
        "colab": {
          "base_uri": "https://localhost:8080/"
        },
        "id": "ttb6Oq5nhDAT",
        "outputId": "a8c6ddcb-9fa7-458d-feca-7f0f12f93535"
      },
      "execution_count": 238,
      "outputs": [
        {
          "output_type": "execute_result",
          "data": {
            "text/plain": [
              "0.6147266730004335"
            ]
          },
          "metadata": {},
          "execution_count": 238
        }
      ]
    },
    {
      "cell_type": "markdown",
      "source": [
        "The model achieved an R² score of approximately 60% on the training data and 61% on the test data, indicating consistent performance and good generalization. While the model explains a majority of the variance, further improvements may be necessary to capture additional factors affecting housing prices."
      ],
      "metadata": {
        "id": "m7dlbXgeirz0"
      }
    }
  ]
}